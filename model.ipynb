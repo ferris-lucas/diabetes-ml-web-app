{
  "nbformat": 4,
  "nbformat_minor": 0,
  "metadata": {
    "colab": {
      "name": "Untitled5.ipynb",
      "provenance": []
    },
    "kernelspec": {
      "name": "python3",
      "display_name": "Python 3"
    },
    "language_info": {
      "name": "python"
    }
  },
  "cells": [
    {
      "cell_type": "code",
      "metadata": {
        "id": "nr04oer6VOHk"
      },
      "source": [
        "#Description: this program detects if someone has diabetes using machine learning and python!\n",
        "#Import the libraries\n",
        "import pandas as pd\n",
        "import numpy as np\n",
        "from sklearn.metrics import accuracy_score\n",
        "from sklearn.model_selection import train_test_split\n",
        "from sklearn.ensemble import RandomForestClassifier\n",
        "import joblib\n",
        "\n",
        "#Get the data for the model\n",
        "df = pd.read_csv('https://raw.githubusercontent.com/ferris77/ml-web-app/main/diabetes.csv')\n",
        "\n",
        "#We need to preprocess the data replacing zero values with suitable values (means)\n",
        "df['Glucose'] = np.where(df['Glucose']==0,df['Glucose'].mean(),df['Glucose'])\n",
        "df['BloodPressure'] = np.where(df['BloodPressure']==0,df['BloodPressure'].mean(),df['BloodPressure'])\n",
        "df['SkinThickness'] = np.where(df['SkinThickness']==0,df['SkinThickness'].median(),df['SkinThickness'])\n",
        "df['Insulin'] = np.where(df['Insulin']==0,df['Insulin'].median(),df['Insulin'])\n",
        "df['BMI'] = np.where(df['BMI']==0,df['BMI'].mean(),df['BMI'])"
      ],
      "execution_count": 1,
      "outputs": []
    },
    {
      "cell_type": "code",
      "metadata": {
        "colab": {
          "base_uri": "https://localhost:8080/"
        },
        "id": "9Di0j-qeeAvO",
        "outputId": "acc6d852-1ade-49b3-afe3-b83fd3b716bd"
      },
      "source": [
        "#Split the data into independentent 'X' and dependente 'Y' variables\n",
        "X = df.iloc[:, 0:8].values #we want the array, not the df\n",
        "Y = df.iloc[:, -1].values\n",
        "\n",
        "#Split the data into 75% training and 25% testing\n",
        "X_train, X_test, Y_train, Y_test = train_test_split(X, Y, test_size=0.20, random_state=0)\n",
        "\n",
        "#Create and train the model\n",
        "model = RandomForestClassifier()\n",
        "model.fit(X_train, Y_train)\n",
        "\n",
        "#Let's check our models accuracy\n",
        "predictions = model.predict(X_test)\n",
        "print(f'Our first RFC model has an accuracy of: {accuracy_score(Y_test, predictions)*100:.2f}%')"
      ],
      "execution_count": 2,
      "outputs": [
        {
          "output_type": "stream",
          "text": [
            "Our first RFC model has an accuracy of: 81.17%\n"
          ],
          "name": "stdout"
        }
      ]
    },
    {
      "cell_type": "code",
      "metadata": {
        "colab": {
          "base_uri": "https://localhost:8080/"
        },
        "id": "2qby4qB6f7Yd",
        "outputId": "b1eb2151-8569-45d8-d985-98fd63982214"
      },
      "source": [
        "# Manual Hyperparameter Tuning\n",
        "manual_tuned_model = RandomForestClassifier(n_estimators=100,criterion='gini',\n",
        "                                            max_features='sqrt',\n",
        "                                            min_samples_leaf=5,random_state=0)\n",
        "manual_tuned_model.fit(X_train, Y_train)\n",
        "manual_tuned_predictions = manual_tuned_model.predict(X_test)\n",
        "print(f'Our manual tunned RFC model has an accuracy of: {accuracy_score(Y_test, manual_tuned_predictions)*100:.2f}%')"
      ],
      "execution_count": 3,
      "outputs": [
        {
          "output_type": "stream",
          "text": [
            "Our manual tunned RFC model has an accuracy of: 84.42%\n"
          ],
          "name": "stdout"
        }
      ]
    },
    {
      "cell_type": "code",
      "metadata": {
        "colab": {
          "base_uri": "https://localhost:8080/"
        },
        "id": "3AceDCGAbxCG",
        "outputId": "51671c7c-d271-4dd9-ad55-489b34e79854"
      },
      "source": [
        "#Hypertuning\n",
        "from sklearn.model_selection import RandomizedSearchCV\n",
        "import numpy as np\n",
        "# Number of trees in random forest\n",
        "n_estimators = [int(x) for x in np.linspace(start = 100, stop = 1200, num = 12)]\n",
        "# Number of features to consider at every split\n",
        "max_features = ['auto', 'sqrt','log2']\n",
        "# Maximum number of levels in tree\n",
        "max_depth = [int(x) for x in np.linspace(10, 1000,10)]\n",
        "# Minimum number of samples required to split a node\n",
        "min_samples_split = [2, 5, 10,14]\n",
        "# Minimum number of samples required at each leaf node\n",
        "min_samples_leaf = [1, 2, 4,6,8]\n",
        "# Create the random grid\n",
        "random_grid = {'n_estimators': n_estimators,\n",
        "               'max_features': max_features,\n",
        "               'max_depth': max_depth,\n",
        "               'min_samples_split': min_samples_split,\n",
        "               'min_samples_leaf': min_samples_leaf,\n",
        "              'criterion':['entropy','gini']}\n",
        "\n",
        "print(random_grid)\n",
        "\n",
        "auto_tuned_model = RandomForestClassifier()\n",
        "RFC_randomcv = RandomizedSearchCV(estimator = auto_tuned_model,\n",
        "                                  param_distributions = random_grid,\n",
        "                                  n_iter = 20,\n",
        "                                  cv = 3,\n",
        "                                  verbose = 2,\n",
        "                                  random_state = 100,\n",
        "                                  n_jobs = -1)\n",
        "### fit the randomized model\n",
        "RFC_randomcv.fit(X_train,Y_train)\n",
        "\n",
        "RFC_randomcv.best_params_\n",
        "\n",
        "best_random_grid = RFC_randomcv.best_estimator_\n",
        "\n",
        "auto_tuned_predictions = best_random_grid.predict(X_test)\n",
        "print(f'Our manual tunned RFC model has an accuracy of: {accuracy_score(Y_test, auto_tuned_predictions)*100:.2f}%')"
      ],
      "execution_count": 4,
      "outputs": [
        {
          "output_type": "stream",
          "text": [
            "{'n_estimators': [100, 200, 300, 400, 500, 600, 700, 800, 900, 1000, 1100, 1200], 'max_features': ['auto', 'sqrt', 'log2'], 'max_depth': [10, 120, 230, 340, 450, 560, 670, 780, 890, 1000], 'min_samples_split': [2, 5, 10, 14], 'min_samples_leaf': [1, 2, 4, 6, 8], 'criterion': ['entropy', 'gini']}\n",
            "Fitting 3 folds for each of 20 candidates, totalling 60 fits\n"
          ],
          "name": "stdout"
        },
        {
          "output_type": "stream",
          "text": [
            "[Parallel(n_jobs=-1)]: Using backend LokyBackend with 2 concurrent workers.\n",
            "[Parallel(n_jobs=-1)]: Done  37 tasks      | elapsed:   40.7s\n",
            "[Parallel(n_jobs=-1)]: Done  60 out of  60 | elapsed:  1.1min finished\n"
          ],
          "name": "stderr"
        },
        {
          "output_type": "stream",
          "text": [
            "Our manual tunned RFC model has an accuracy of: 80.52%\n"
          ],
          "name": "stdout"
        }
      ]
    },
    {
      "cell_type": "code",
      "metadata": {
        "colab": {
          "base_uri": "https://localhost:8080/"
        },
        "id": "B1BCfK1HcwBl",
        "outputId": "b5b6e4c5-ac98-4fd4-ded8-0fd0031716ce"
      },
      "source": [
        "print(f'model accuracy: {accuracy_score(Y_test, predictions)*100:.2f}%')\n",
        "print(f'manual_tuned_model accuracy: {accuracy_score(Y_test, manual_tuned_predictions)*100:.2f}%')\n",
        "print(f'auto_tuned_model accuracy: {accuracy_score(Y_test, auto_tuned_predictions)*100:.2f}%')"
      ],
      "execution_count": 5,
      "outputs": [
        {
          "output_type": "stream",
          "text": [
            "model accuracy: 81.17%\n",
            "_manual_tuned_model accuracy: 84.42%\n",
            "auto_tuned_model accuracy: 80.52%\n"
          ],
          "name": "stdout"
        }
      ]
    },
    {
      "cell_type": "code",
      "metadata": {
        "colab": {
          "base_uri": "https://localhost:8080/"
        },
        "id": "HBruX17GbYON",
        "outputId": "68f0e1d8-5bad-49f4-9972-860a418e9383"
      },
      "source": [
        "#We reached higher accuracy with manual-tunned model, we will select this model\n",
        "#to serialize and save to disk\n",
        "joblib.dump(manual_tuned_model, 'model.pkl')"
      ],
      "execution_count": 8,
      "outputs": [
        {
          "output_type": "execute_result",
          "data": {
            "text/plain": [
              "['model.pkl']"
            ]
          },
          "metadata": {
            "tags": []
          },
          "execution_count": 8
        }
      ]
    }
  ]
}